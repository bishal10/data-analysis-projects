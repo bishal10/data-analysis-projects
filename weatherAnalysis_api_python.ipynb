{
 "cells": [
  {
   "cell_type": "markdown",
   "metadata": {},
   "source": [
    "# Weather Info Using OpenWeatherMap API in Python"
   ]
  },
  {
   "cell_type": "code",
   "execution_count": 8,
   "metadata": {},
   "outputs": [],
   "source": [
    "import urllib.request\n",
    "import json"
   ]
  },
  {
   "cell_type": "code",
   "execution_count": 26,
   "metadata": {},
   "outputs": [
    {
     "name": "stdout",
     "output_type": "stream",
     "text": [
      "Enter City NameKathmandu\n"
     ]
    }
   ],
   "source": [
    "api_endpoint = \"https://api.openweathermap.org/data/2.5/weather\"\n",
    "api_key = \"b7daae176a7f75e400a9a589c76d93d9\"\n",
    "city = str(input(\"Enter City Name\"))"
   ]
  },
  {
   "cell_type": "code",
   "execution_count": 27,
   "metadata": {},
   "outputs": [],
   "source": [
    "url = api_endpoint + \"?q=\" + city + \"&appid=\" + api_key"
   ]
  },
  {
   "cell_type": "code",
   "execution_count": 28,
   "metadata": {},
   "outputs": [
    {
     "data": {
      "text/plain": [
       "{'coord': {'lon': 85.3167, 'lat': 27.7167},\n",
       " 'weather': [{'id': 801,\n",
       "   'main': 'Clouds',\n",
       "   'description': 'few clouds',\n",
       "   'icon': '02d'}],\n",
       " 'base': 'stations',\n",
       " 'main': {'temp': 302.27,\n",
       "  'feels_like': 300.83,\n",
       "  'temp_min': 302.27,\n",
       "  'temp_max': 302.27,\n",
       "  'pressure': 1009,\n",
       "  'humidity': 24},\n",
       " 'visibility': 10000,\n",
       " 'wind': {'speed': 4.12, 'deg': 300},\n",
       " 'clouds': {'all': 20},\n",
       " 'dt': 1649933328,\n",
       " 'sys': {'type': 1,\n",
       "  'id': 9201,\n",
       "  'country': 'NP',\n",
       "  'sunrise': 1649894119,\n",
       "  'sunset': 1649940147},\n",
       " 'timezone': 20700,\n",
       " 'id': 1283240,\n",
       " 'name': 'Kathmandu',\n",
       " 'cod': 200}"
      ]
     },
     "execution_count": 28,
     "metadata": {},
     "output_type": "execute_result"
    }
   ],
   "source": [
    "response = urllib.request.urlopen(url)\n",
    "parse_response = json.loads(response.read())\n",
    "parse_response"
   ]
  },
  {
   "cell_type": "code",
   "execution_count": 30,
   "metadata": {},
   "outputs": [
    {
     "name": "stdout",
     "output_type": "stream",
     "text": [
      " Weather Update of Kathmandu\n",
      " Temperature:302.27\n",
      " Humidity:24\n",
      " Wind Speed:4.12\n",
      " Weather:few clouds\n"
     ]
    }
   ],
   "source": [
    "temp = parse_response['main']['temp']\n",
    "city_name = parse_response['name']\n",
    "humidity = parse_response['main']['humidity']\n",
    "wind_speed = parse_response['wind']['speed']\n",
    "weather = parse_response['weather'][0]['description']\n",
    "\n",
    "print(\" Weather Update of {4}\\n Temperature:{0}\\n Humidity:{1}\\n Wind Speed:{2}\\n Weather:{3}\".format(temp,humidity,wind_speed,weather,city_name))\n"
   ]
  }
 ],
 "metadata": {
  "kernelspec": {
   "display_name": "Python 3",
   "language": "python",
   "name": "python3"
  },
  "language_info": {
   "codemirror_mode": {
    "name": "ipython",
    "version": 3
   },
   "file_extension": ".py",
   "mimetype": "text/x-python",
   "name": "python",
   "nbconvert_exporter": "python",
   "pygments_lexer": "ipython3",
   "version": "3.8.5"
  }
 },
 "nbformat": 4,
 "nbformat_minor": 4
}
